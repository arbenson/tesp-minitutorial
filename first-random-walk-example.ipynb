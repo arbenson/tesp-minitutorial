{
 "cells": [
  {
   "cell_type": "code",
   "execution_count": null,
   "metadata": {
    "collapsed": false
   },
   "outputs": [],
   "source": [
    "# Packages needed:\n",
    "#   StatsBase\n",
    "#   PyPlot\n",
    "include(\"example_common.jl\");"
   ]
  },
  {
   "cell_type": "code",
   "execution_count": null,
   "metadata": {
    "collapsed": false
   },
   "outputs": [],
   "source": [
    "# Column-stochastic random walk matrix\n",
    "P1 = [[0, 0.5, 0.5] [0.5, 0, 0.5] [0.5, 0.5, 0]];\n",
    "\n",
    "# Simulate the first-order Markov chain, starting at node 1\n",
    "starting_node = 1\n",
    "(counts1, hist1) = sim_FOMC(P1, starting_node)\n",
    "counts1 / sum(counts1), hist1[1:50]"
   ]
  },
  {
   "cell_type": "code",
   "execution_count": null,
   "metadata": {
    "collapsed": false
   },
   "outputs": [],
   "source": [
    "# Nonbacktracking random walk transition probability tensor\n",
    "P2 = zeros(Float64, 3, 3, 3);\n",
    "P2[:, 1, 2] = [0, 0, 1.0]; P2[:, 2, 1] = [0, 0, 1.0]\n",
    "P2[:, 1, 3] = [0, 1.0, 0]; P2[:, 3, 1] = [0, 1.0, 0]\n",
    "P2[:, 2, 3] = [1.0, 0, 0]; P2[:, 3, 2] = [1.0, 0, 0]\n",
    "\n",
    "# Simulate the second-order Markov chain starting at pair (1, 2)\n",
    "starting_pair = (1, 2)\n",
    "(counts2, hist2) = sim_SOMC(P2, starting_pair)\n",
    "counts2 / sum(counts2), hist2[1:50]"
   ]
  },
  {
   "cell_type": "code",
   "execution_count": null,
   "metadata": {
    "collapsed": false
   },
   "outputs": [],
   "source": [
    "# Spacey random walks!\n",
    "n = size(P2, 1)\n",
    "\n",
    "# Set undefined transitions to be uniform\n",
    "undef_a = ones(Float64, n) / n\n",
    "(counts3a, hist3a) = sim_SOSRW(P2, starting_node, undef_a)\n",
    "dist3a = counts3a / sum(counts3a)"
   ]
  },
  {
   "cell_type": "code",
   "execution_count": null,
   "metadata": {
    "collapsed": false
   },
   "outputs": [],
   "source": [
    "# Set undefined transitions to go back to 1\n",
    "undef_b = zeros(Float64, n); \n",
    "undef_b[1] = 1.0\n",
    "(counts3b, hist3b) = sim_SOSRW(P2, starting_node, undef_b)\n",
    "dist3b = counts3b / sum(counts3b)"
   ]
  },
  {
   "cell_type": "code",
   "execution_count": null,
   "metadata": {
    "collapsed": false
   },
   "outputs": [],
   "source": [
    "# Use the super spacey random walk\n",
    "(counts3s, hist3s) = sim_SOSRW(P2, starting_node, Float64[], true)\n",
    "counts3s / sum(counts3s)"
   ]
  },
  {
   "cell_type": "code",
   "execution_count": null,
   "metadata": {
    "collapsed": false
   },
   "outputs": [],
   "source": [
    "# Let's check that we are actually getting out eigenvectors!\n",
    "\n",
    "# First, fill in the zero columns.\n",
    "P2a = copy(P2)\n",
    "P2b = copy(P2)\n",
    "n = size(P2, 1)\n",
    "for j = 1:n, k = 1:n\n",
    "    col = vec(P2[:, j, k])\n",
    "    if maximum(col) == 0.0\n",
    "        P2a[:, j, k] = undef_a\n",
    "        P2b[:, j, k] = undef_b\n",
    "    end\n",
    "end\n",
    "\n",
    "# Apply the stationary distributions to the tensors\n",
    "ya = apply(P2a, dist3a)\n",
    "yb = apply(P2b, dist3b)\n",
    "\n",
    "@show minimum(ya ./ dist3a), maximum(ya ./ dist3a)\n",
    "@show minimum(yb ./ dist3b), maximum(yb ./ dist3b)\n",
    ";"
   ]
  },
  {
   "cell_type": "code",
   "execution_count": null,
   "metadata": {
    "collapsed": true
   },
   "outputs": [],
   "source": [
    "# Done!"
   ]
  }
 ],
 "metadata": {
  "kernelspec": {
   "display_name": "Julia 0.6.2",
   "language": "julia",
   "name": "julia-0.6"
  },
  "language_info": {
   "file_extension": ".jl",
   "mimetype": "application/julia",
   "name": "julia",
   "version": "0.6.2"
  }
 },
 "nbformat": 4,
 "nbformat_minor": 0
}
