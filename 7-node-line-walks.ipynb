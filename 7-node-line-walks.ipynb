{
 "cells": [
  {
   "cell_type": "code",
   "execution_count": null,
   "metadata": {
    "collapsed": true
   },
   "outputs": [],
   "source": [
    "# Packages needed:\n",
    "#   StatsBase\n",
    "#   PyPlot\n",
    "include(\"example_common.jl\");"
   ]
  },
  {
   "cell_type": "code",
   "execution_count": null,
   "metadata": {
    "collapsed": false
   },
   "outputs": [],
   "source": [
    "const l = 1  # left node\n",
    "const c = 4  # center node\n",
    "const r = 7  # right node\n",
    "\n",
    "# Column-stochastic random walk matrix\n",
    "P1 = zeros(Float64, r, r)\n",
    "for i = (l + 1):(r - 1)\n",
    "    P1[[i - 1, i + 1], i] = 1 / 2\n",
    "end\n",
    "P1[[l + 1, c - 1, c], l] = [1 / 2, 1 / 6, 1 / 3]\n",
    "P1[[r - 1, c + 1, c], r] = [1 / 2, 1 / 6, 1 / 3]\n",
    "\n",
    "# Simulate the first-order Markov chain, starting at node 1\n",
    "starting_node = c\n",
    "(counts1, hist1) = sim_FOMC(P1, starting_node)\n",
    "dist1 = normalize(counts1, 1)\n",
    "dist1, hist1[1:50]"
   ]
  },
  {
   "cell_type": "code",
   "execution_count": null,
   "metadata": {
    "collapsed": false
   },
   "outputs": [],
   "source": [
    "# Nonbacktracking random walk transition probability tensor\n",
    "P2 = zeros(Float64, r, r, r)\n",
    "for i = (l + 1):(r - 1)\n",
    "    P2[i + 1, i, i - 1] = 1.0\n",
    "    P2[i - 1, i, i + 1] = 1.0\n",
    "end\n",
    "P2[[c, c + 1], r, r - 1] = [2 / 3, 1 / 3]\n",
    "P2[[c, c - 1], l, l + 1] = [2 / 3, 1 / 3]\n",
    "P2[[l + 1, c], c - 1, l] = [1 / 2, 1 / 2]\n",
    "P2[[c, r - 1], c + 1, r] = [1 / 2, 1 / 2]\n",
    "P2[[c + 1, c - 1], c, l] = [1 / 2, 1 / 2]\n",
    "P2[[c + 1, c - 1], c, r] = [1 / 2, 1 / 2]\n",
    "\n",
    "# Simulate the second-order Markov chain\n",
    "starting_pair = (c, c - 1)\n",
    "(counts2, hist2) = sim_SOMC(P2, starting_pair)\n",
    "dist2 = normalize(counts2, 1)\n",
    "dist2, hist2[1:50]"
   ]
  },
  {
   "cell_type": "code",
   "execution_count": null,
   "metadata": {
    "collapsed": true
   },
   "outputs": [],
   "source": [
    "# Spacey random walks!\n",
    "\n",
    "# Simulate several spacey random walks\n",
    "(counts3a, hist3a) = sim_SOSRW(P2, c, ones(Float64,r)/r) # uniform dist.\n",
    "(counts3b, hist3b) = sim_SOSRW(P2, c, dist1)             # RW stat. dist.\n",
    "(counts3c, hist3c) = sim_SOSRW(P2, c, dist2)             # NBRW stat. dist.\n",
    "(counts3s, hist3s) = sim_SOSRW(P2, c, Float64[], true)   # super spacey\n",
    "\n",
    "dist3a = normalize(counts3a, 1)\n",
    "dist3b = normalize(counts3b, 1)\n",
    "dist3c = normalize(counts3c, 1)\n",
    "dist3s = normalize(counts3s, 1)\n",
    ";"
   ]
  },
  {
   "cell_type": "code",
   "execution_count": null,
   "metadata": {
    "collapsed": false
   },
   "outputs": [],
   "source": [
    "# Let's check that we are actually getting out eigenvectors!\n",
    "\n",
    "# First, fill in the zero columns.\n",
    "P2a = copy(P2)\n",
    "P2b = copy(P2)\n",
    "P2c = copy(P2)\n",
    "for j = 1:r, k = 1:r\n",
    "    col = vec(P2[:, j, k])\n",
    "    if maximum(col) == 0.0\n",
    "        P2a[:, j, k] = ones(Float64,r)/r\n",
    "        P2b[:, j, k] = dist1\n",
    "        P2c[:, j, k] = dist2\n",
    "    end\n",
    "end\n",
    "\n",
    "ya = apply(P2a, dist3a)\n",
    "yb = apply(P2b, dist3b)\n",
    "yc = apply(P2c, dist3c)\n",
    "\n",
    "@show minimum(ya ./ dist3a), maximum(ya ./ dist3a)\n",
    "@show minimum(yb ./ dist3b), maximum(yb ./ dist3b)\n",
    "@show minimum(yc ./ dist3c), maximum(yc ./ dist3c)\n",
    ";"
   ]
  },
  {
   "cell_type": "code",
   "execution_count": null,
   "metadata": {
    "collapsed": false
   },
   "outputs": [],
   "source": [
    "using PyPlot\n",
    "plot(l:r, dist1,  lw=1, ls=\"-\",  label=\"RW\")\n",
    "plot(l:r, dist2,  lw=1, ls=\"-\",  label=\"NBRW\")\n",
    "plot(l:r, dist3a, lw=2, ls=\"--\", label=\"SRW (uniform)\")\n",
    "plot(l:r, dist3b, lw=2, ls=\"--\", label=\"SRW (RW stat. dist.)\")\n",
    "plot(l:r, dist3c, lw=2, ls=\"--\", label=\"SRW (NBRW stat. dist.)\")\n",
    "plot(l:r, dist3s, lw=2, ls=\":\",  label=\"Super SRW\")\n",
    "\n",
    "xlabel(\"state\")\n",
    "ylabel(\"probability\")\n",
    "\n",
    "# Set legend on the outside\n",
    "ax = gca()\n",
    "box = ax[:get_position]()\n",
    "ax[:set_position]([box[:x0], box[:y0], box[:width] * 0.8, box[:height]])\n",
    "ax[:legend](loc=\"center left\", bbox_to_anchor=(1, 0.75))\n",
    "\n",
    "show()"
   ]
  },
  {
   "cell_type": "code",
   "execution_count": null,
   "metadata": {
    "collapsed": true
   },
   "outputs": [],
   "source": [
    "# Done!"
   ]
  }
 ],
 "metadata": {
  "kernelspec": {
   "display_name": "Julia 0.6.2",
   "language": "julia",
   "name": "julia-0.6"
  },
  "language_info": {
   "file_extension": ".jl",
   "mimetype": "application/julia",
   "name": "julia",
   "version": "0.6.2"
  }
 },
 "nbformat": 4,
 "nbformat_minor": 0
}
